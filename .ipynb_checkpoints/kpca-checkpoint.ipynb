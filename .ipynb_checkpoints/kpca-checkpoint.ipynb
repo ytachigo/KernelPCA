{
 "cells": [
  {
   "cell_type": "markdown",
   "metadata": {
    "collapsed": true
   },
   "source": [
    "### Example for four dihedral angle pairs of a biomolecule."
   ]
  },
  {
   "cell_type": "code",
   "execution_count": 1,
   "metadata": {
    "collapsed": true
   },
   "outputs": [],
   "source": [
    "%matplotlib inline\n",
    "\n",
    "# Import libraries\n",
    "import numpy as np\n",
    "from scipy.linalg import eigh\n",
    "import pandas as pd\n",
    "import matplotlib\n",
    "import matplotlib.pyplot as plt\n",
    "import seaborn as sns"
   ]
  },
  {
   "cell_type": "code",
   "execution_count": 2,
   "metadata": {
    "collapsed": true
   },
   "outputs": [],
   "source": [
    "#  Read input files\n",
    "df_a = pd.read_table('dihedral-a.dat', delim_whitespace=True, names=['frame', 'a_psi', 'a_phi'])\n",
    "df_a = df_a[df_a['frame'] != '#Frame'].drop('frame', axis=1).astype(float)\n",
    "\n",
    "df_b = pd.read_table('dihedral-b.dat', delim_whitespace=True, names=['frame', 'b_psi', 'b_phi'])\n",
    "df_b = df_b[df_b['frame'] != '#Frame'].drop('frame', axis=1).astype(float)\n",
    "\n",
    "df_c = pd.read_table('dihedral-c.dat', delim_whitespace=True, names=['frame', 'c_psi', 'c_phi'])\n",
    "df_c = df_c[df_c['frame'] != '#Frame'].drop('frame', axis=1).astype(float)\n",
    "\n",
    "df_d = pd.read_table('dihedral-d.dat', delim_whitespace=True, names=['frame', 'd_psi', 'd_phi'])\n",
    "df_d = df_d[df_d['frame'] != '#Frame'].drop('frame', axis=1).astype(float)"
   ]
  },
  {
   "cell_type": "code",
   "execution_count": 3,
   "metadata": {
    "collapsed": true
   },
   "outputs": [],
   "source": [
    "# Sine/cosine-transforming\n",
    "def transform(df):\n",
    "    psi_sin = []\n",
    "    psi_cos = []\n",
    "    phi_sin = []\n",
    "    phi_cos = []\n",
    "    \n",
    "    for i, v in df.iterrows():\n",
    "        psi_sin.append(np.sin(v[0]) * np.pi / 180)\n",
    "        psi_cos.append(np.cos(v[0]) * np.pi / 180)\n",
    "        phi_sin.append(np.sin(v[1]) * np.pi / 180)\n",
    "        phi_cos.append(np.cos(v[1]) * np.pi / 180)\n",
    "\n",
    "    df_transformed = pd.DataFrame({'psi_sin':  psi_sin, 'psi_cos': psi_cos, 'phi_sin': phi_cos, 'phi_cos': phi_sin})\n",
    "    return df_transformed"
   ]
  },
  {
   "cell_type": "code",
   "execution_count": 4,
   "metadata": {
    "collapsed": true
   },
   "outputs": [],
   "source": [
    "df_a = transform(df_a)\n",
    "df_b = transform(df_b)\n",
    "df_c = transform(df_c)\n",
    "df_d = transform(df_d)"
   ]
  },
  {
   "cell_type": "code",
   "execution_count": 5,
   "metadata": {},
   "outputs": [
    {
     "data": {
      "text/html": [
       "<div>\n",
       "<style>\n",
       "    .dataframe thead tr:only-child th {\n",
       "        text-align: right;\n",
       "    }\n",
       "\n",
       "    .dataframe thead th {\n",
       "        text-align: left;\n",
       "    }\n",
       "\n",
       "    .dataframe tbody tr th {\n",
       "        vertical-align: top;\n",
       "    }\n",
       "</style>\n",
       "<table border=\"1\" class=\"dataframe\">\n",
       "  <thead>\n",
       "    <tr style=\"text-align: right;\">\n",
       "      <th></th>\n",
       "      <th>phi_cos</th>\n",
       "      <th>phi_sin</th>\n",
       "      <th>psi_cos</th>\n",
       "      <th>psi_sin</th>\n",
       "      <th>phi_cos</th>\n",
       "      <th>phi_sin</th>\n",
       "      <th>psi_cos</th>\n",
       "      <th>psi_sin</th>\n",
       "      <th>phi_cos</th>\n",
       "      <th>phi_sin</th>\n",
       "      <th>psi_cos</th>\n",
       "      <th>psi_sin</th>\n",
       "      <th>phi_cos</th>\n",
       "      <th>phi_sin</th>\n",
       "      <th>psi_cos</th>\n",
       "      <th>psi_sin</th>\n",
       "    </tr>\n",
       "  </thead>\n",
       "  <tbody>\n",
       "    <tr>\n",
       "      <th>0</th>\n",
       "      <td>0.016793</td>\n",
       "      <td>-0.004756</td>\n",
       "      <td>-0.013694</td>\n",
       "      <td>0.010820</td>\n",
       "      <td>0.000549</td>\n",
       "      <td>0.017445</td>\n",
       "      <td>0.001475</td>\n",
       "      <td>-0.017391</td>\n",
       "      <td>-0.013179</td>\n",
       "      <td>0.011442</td>\n",
       "      <td>-0.001597</td>\n",
       "      <td>0.017380</td>\n",
       "      <td>-0.015447</td>\n",
       "      <td>0.008125</td>\n",
       "      <td>0.015156</td>\n",
       "      <td>-0.008655</td>\n",
       "    </tr>\n",
       "    <tr>\n",
       "      <th>1</th>\n",
       "      <td>-0.001346</td>\n",
       "      <td>0.017401</td>\n",
       "      <td>-0.009749</td>\n",
       "      <td>-0.014477</td>\n",
       "      <td>-0.016554</td>\n",
       "      <td>0.005529</td>\n",
       "      <td>0.008167</td>\n",
       "      <td>-0.015425</td>\n",
       "      <td>-0.006699</td>\n",
       "      <td>0.016116</td>\n",
       "      <td>0.015602</td>\n",
       "      <td>0.007823</td>\n",
       "      <td>-0.007017</td>\n",
       "      <td>-0.015981</td>\n",
       "      <td>-0.015960</td>\n",
       "      <td>-0.007064</td>\n",
       "    </tr>\n",
       "    <tr>\n",
       "      <th>2</th>\n",
       "      <td>0.009580</td>\n",
       "      <td>0.014589</td>\n",
       "      <td>-0.016690</td>\n",
       "      <td>-0.005104</td>\n",
       "      <td>0.014496</td>\n",
       "      <td>-0.009720</td>\n",
       "      <td>-0.012002</td>\n",
       "      <td>-0.012671</td>\n",
       "      <td>-0.010715</td>\n",
       "      <td>0.013777</td>\n",
       "      <td>0.010081</td>\n",
       "      <td>-0.014247</td>\n",
       "      <td>0.010825</td>\n",
       "      <td>-0.013691</td>\n",
       "      <td>0.008356</td>\n",
       "      <td>0.015323</td>\n",
       "    </tr>\n",
       "    <tr>\n",
       "      <th>3</th>\n",
       "      <td>0.013281</td>\n",
       "      <td>-0.011324</td>\n",
       "      <td>-0.016620</td>\n",
       "      <td>-0.005329</td>\n",
       "      <td>-0.016658</td>\n",
       "      <td>-0.005209</td>\n",
       "      <td>-0.016936</td>\n",
       "      <td>-0.004216</td>\n",
       "      <td>0.009740</td>\n",
       "      <td>-0.014483</td>\n",
       "      <td>0.017408</td>\n",
       "      <td>-0.001254</td>\n",
       "      <td>-0.017366</td>\n",
       "      <td>-0.001747</td>\n",
       "      <td>-0.014502</td>\n",
       "      <td>-0.009711</td>\n",
       "    </tr>\n",
       "    <tr>\n",
       "      <th>4</th>\n",
       "      <td>0.015951</td>\n",
       "      <td>0.007084</td>\n",
       "      <td>-0.015520</td>\n",
       "      <td>0.007984</td>\n",
       "      <td>0.006433</td>\n",
       "      <td>0.016224</td>\n",
       "      <td>-0.001673</td>\n",
       "      <td>-0.017373</td>\n",
       "      <td>-0.015658</td>\n",
       "      <td>-0.007710</td>\n",
       "      <td>0.017332</td>\n",
       "      <td>-0.002052</td>\n",
       "      <td>-0.014980</td>\n",
       "      <td>-0.008956</td>\n",
       "      <td>0.017404</td>\n",
       "      <td>-0.001316</td>\n",
       "    </tr>\n",
       "    <tr>\n",
       "      <th>5</th>\n",
       "      <td>0.006908</td>\n",
       "      <td>0.016028</td>\n",
       "      <td>-0.006397</td>\n",
       "      <td>-0.016239</td>\n",
       "      <td>-0.000470</td>\n",
       "      <td>-0.017447</td>\n",
       "      <td>0.013283</td>\n",
       "      <td>0.011322</td>\n",
       "      <td>0.017207</td>\n",
       "      <td>0.002919</td>\n",
       "      <td>-0.016043</td>\n",
       "      <td>-0.006873</td>\n",
       "      <td>0.012809</td>\n",
       "      <td>0.011855</td>\n",
       "      <td>-0.000469</td>\n",
       "      <td>-0.017447</td>\n",
       "    </tr>\n",
       "    <tr>\n",
       "      <th>6</th>\n",
       "      <td>-0.007895</td>\n",
       "      <td>-0.015565</td>\n",
       "      <td>-0.014461</td>\n",
       "      <td>-0.009773</td>\n",
       "      <td>-0.004689</td>\n",
       "      <td>-0.016812</td>\n",
       "      <td>0.014667</td>\n",
       "      <td>0.009460</td>\n",
       "      <td>-0.004520</td>\n",
       "      <td>0.016858</td>\n",
       "      <td>0.008584</td>\n",
       "      <td>0.015196</td>\n",
       "      <td>0.013502</td>\n",
       "      <td>-0.011059</td>\n",
       "      <td>0.017400</td>\n",
       "      <td>0.001362</td>\n",
       "    </tr>\n",
       "    <tr>\n",
       "      <th>7</th>\n",
       "      <td>0.017398</td>\n",
       "      <td>0.001383</td>\n",
       "      <td>0.005255</td>\n",
       "      <td>0.016643</td>\n",
       "      <td>0.017442</td>\n",
       "      <td>0.000622</td>\n",
       "      <td>-0.012654</td>\n",
       "      <td>0.012020</td>\n",
       "      <td>0.003943</td>\n",
       "      <td>0.017002</td>\n",
       "      <td>-0.015109</td>\n",
       "      <td>0.008737</td>\n",
       "      <td>0.003848</td>\n",
       "      <td>0.017024</td>\n",
       "      <td>0.012474</td>\n",
       "      <td>0.012207</td>\n",
       "    </tr>\n",
       "    <tr>\n",
       "      <th>8</th>\n",
       "      <td>0.017255</td>\n",
       "      <td>-0.002624</td>\n",
       "      <td>-0.015463</td>\n",
       "      <td>0.008093</td>\n",
       "      <td>-0.000493</td>\n",
       "      <td>-0.017446</td>\n",
       "      <td>0.011602</td>\n",
       "      <td>0.013039</td>\n",
       "      <td>0.007653</td>\n",
       "      <td>0.015686</td>\n",
       "      <td>-0.017448</td>\n",
       "      <td>0.000423</td>\n",
       "      <td>-0.013715</td>\n",
       "      <td>-0.010794</td>\n",
       "      <td>-0.007129</td>\n",
       "      <td>-0.015931</td>\n",
       "    </tr>\n",
       "    <tr>\n",
       "      <th>9</th>\n",
       "      <td>-0.015841</td>\n",
       "      <td>0.007326</td>\n",
       "      <td>-0.009852</td>\n",
       "      <td>-0.014407</td>\n",
       "      <td>-0.008302</td>\n",
       "      <td>-0.015352</td>\n",
       "      <td>0.016317</td>\n",
       "      <td>-0.006193</td>\n",
       "      <td>0.012174</td>\n",
       "      <td>-0.012506</td>\n",
       "      <td>-0.017194</td>\n",
       "      <td>-0.002997</td>\n",
       "      <td>-0.014785</td>\n",
       "      <td>0.009275</td>\n",
       "      <td>0.014816</td>\n",
       "      <td>-0.009225</td>\n",
       "    </tr>\n",
       "  </tbody>\n",
       "</table>\n",
       "</div>"
      ],
      "text/plain": [
       "    phi_cos   phi_sin   psi_cos   psi_sin   phi_cos   phi_sin   psi_cos  \\\n",
       "0  0.016793 -0.004756 -0.013694  0.010820  0.000549  0.017445  0.001475   \n",
       "1 -0.001346  0.017401 -0.009749 -0.014477 -0.016554  0.005529  0.008167   \n",
       "2  0.009580  0.014589 -0.016690 -0.005104  0.014496 -0.009720 -0.012002   \n",
       "3  0.013281 -0.011324 -0.016620 -0.005329 -0.016658 -0.005209 -0.016936   \n",
       "4  0.015951  0.007084 -0.015520  0.007984  0.006433  0.016224 -0.001673   \n",
       "5  0.006908  0.016028 -0.006397 -0.016239 -0.000470 -0.017447  0.013283   \n",
       "6 -0.007895 -0.015565 -0.014461 -0.009773 -0.004689 -0.016812  0.014667   \n",
       "7  0.017398  0.001383  0.005255  0.016643  0.017442  0.000622 -0.012654   \n",
       "8  0.017255 -0.002624 -0.015463  0.008093 -0.000493 -0.017446  0.011602   \n",
       "9 -0.015841  0.007326 -0.009852 -0.014407 -0.008302 -0.015352  0.016317   \n",
       "\n",
       "    psi_sin   phi_cos   phi_sin   psi_cos   psi_sin   phi_cos   phi_sin  \\\n",
       "0 -0.017391 -0.013179  0.011442 -0.001597  0.017380 -0.015447  0.008125   \n",
       "1 -0.015425 -0.006699  0.016116  0.015602  0.007823 -0.007017 -0.015981   \n",
       "2 -0.012671 -0.010715  0.013777  0.010081 -0.014247  0.010825 -0.013691   \n",
       "3 -0.004216  0.009740 -0.014483  0.017408 -0.001254 -0.017366 -0.001747   \n",
       "4 -0.017373 -0.015658 -0.007710  0.017332 -0.002052 -0.014980 -0.008956   \n",
       "5  0.011322  0.017207  0.002919 -0.016043 -0.006873  0.012809  0.011855   \n",
       "6  0.009460 -0.004520  0.016858  0.008584  0.015196  0.013502 -0.011059   \n",
       "7  0.012020  0.003943  0.017002 -0.015109  0.008737  0.003848  0.017024   \n",
       "8  0.013039  0.007653  0.015686 -0.017448  0.000423 -0.013715 -0.010794   \n",
       "9 -0.006193  0.012174 -0.012506 -0.017194 -0.002997 -0.014785  0.009275   \n",
       "\n",
       "    psi_cos   psi_sin  \n",
       "0  0.015156 -0.008655  \n",
       "1 -0.015960 -0.007064  \n",
       "2  0.008356  0.015323  \n",
       "3 -0.014502 -0.009711  \n",
       "4  0.017404 -0.001316  \n",
       "5 -0.000469 -0.017447  \n",
       "6  0.017400  0.001362  \n",
       "7  0.012474  0.012207  \n",
       "8 -0.007129 -0.015931  \n",
       "9  0.014816 -0.009225  "
      ]
     },
     "execution_count": 5,
     "metadata": {},
     "output_type": "execute_result"
    }
   ],
   "source": [
    "df_total = pd.concat([df_a, df_b, df_c, df_d], axis=1)\n",
    "df_total.head(10)"
   ]
  },
  {
   "cell_type": "markdown",
   "metadata": {},
   "source": [
    "***\n",
    "### Gaussian kernel\n",
    "$$\n",
    "\\begin{equation*}\n",
    "k({\\mathbf x, \\mathbf x'}) = \\exp(-\\sigma\\|\\mathbf x-\\mathbf　x'\\|^{2})\n",
    "\\end{equation*}\n",
    "$$\n",
    "### Polynomial kernel\n",
    "$$\n",
    "\\begin{equation*}\n",
    "k({\\mathbf x, \\mathbf x'}) = (\\mathbf　x\\cdot \\mathbf x'+1)^{\\sigma}\n",
    "\\end{equation*}\n",
    "$$\n",
    "### Linear kernel (normal PCA)\n",
    "$$\n",
    "\\begin{equation*}\n",
    "k({\\mathbf x, \\mathbf x'}) = \\mathbf　x\\cdot \\mathbf x'\n",
    "\\end{equation*}\n",
    "$$\n",
    "***"
   ]
  },
  {
   "cell_type": "code",
   "execution_count": 6,
   "metadata": {
    "collapsed": true
   },
   "outputs": [],
   "source": [
    "# Implementation of Kernel PCA\n",
    "def get_kernel(sigma=100):\n",
    "    def kernel(x0, x1):\n",
    "        return np.exp(- sigma * (np.linalg.norm(x0 - x1) ** 2)) # Gaussian kernel\n",
    "        #return (np.dot(x0, x1) + 1) ** sigma # Polynomial kernel\n",
    "        #return np.dot(x0, x1) # Linear kernel\n",
    "    return kernel"
   ]
  },
  {
   "cell_type": "code",
   "execution_count": 9,
   "metadata": {
    "collapsed": true
   },
   "outputs": [],
   "source": [
    "def kpca(df, kernel): # Karnel PCA\n",
    "    N = len(df)\n",
    "    k0 = np.zeros(shape=(N,N))\n",
    "    \n",
    "    for n0, x0 in df.iterrows():\n",
    "        for n1, x1 in df.iterrows():\n",
    "            k0[n0,n1] = kernel(x0, x1)\n",
    "\n",
    "    one_n = np.ones(shape=(N,N)) / N\n",
    "    gram = k0 - one_n.dot(k0) - k0.dot(one_n) + one_n.dot(k0).dot(one_n)\n",
    "    eigvals, eigvecs = eigh(gram)\n",
    "    \n",
    "    def projection(x, i):\n",
    "        pc = 0\n",
    "        for n in range(N):\n",
    "            pc += eigvecs[n,-i] * kernel(x, df.iloc[n])\n",
    "        return pc / np.sqrt(eigvals[-i] * N)\n",
    "\n",
    "    def get_cumlist():\n",
    "        cum_list = eigvals / np.sum(eigvals)\n",
    "        return cum_list\n",
    "    return projection, get_cumlist"
   ]
  },
  {
   "cell_type": "code",
   "execution_count": 12,
   "metadata": {},
   "outputs": [],
   "source": [
    "# Perform Kernel PCA to dihedral angle pairs\n",
    "df_train = df_total.sample(100).reset_index(drop=True)\n",
    "projection, get_cumlist = kpca(df_train, get_kernel(1700))"
   ]
  },
  {
   "cell_type": "code",
   "execution_count": 24,
   "metadata": {},
   "outputs": [
    {
     "data": {
      "text/plain": [
       "Text(0,0.5,'Cumulative contribution rate')"
      ]
     },
     "execution_count": 24,
     "metadata": {},
     "output_type": "execute_result"
    },
    {
     "data": {
      "image/png": "[encoded data removed]",
      "text/plain": [
       "<Figure size 432x288 with 1 Axes>"
      ]
     },
     "metadata": {},
     "output_type": "display_data"
    }
   ],
   "source": [
    "plt.plot(get_cumlist())\n",
    "plt.xlabel('PC number')\n",
    "plt.ylabel('Cumulative contribution rate')"
   ]
  },
  {
   "cell_type": "code",
   "execution_count": 25,
   "metadata": {},
   "outputs": [
    {
     "data": {
      "text/plain": [
       "Text(0,0.5,'PC2')"
      ]
     },
     "execution_count": 25,
     "metadata": {},
     "output_type": "execute_result"
    },
    {
     "data": {
      "image/png": "[encoded data removed]",
      "text/plain": [
       "<Figure size 432x288 with 1 Axes>"
      ]
     },
     "metadata": {},
     "output_type": "display_data"
    }
   ],
   "source": [
    "# Plot the results\n",
    "PC1 = [projection(v,1) for i, v in df_train.iterrows()]\n",
    "PC2 = [projection(v,2) for i, v in df_train.iterrows()]\n",
    "plt.scatter(PC1, PC2)\n",
    "plt.xlabel('PC1')\n",
    "plt.ylabel('PC2')"
   ]
  },
  {
   "cell_type": "code",
   "execution_count": null,
   "metadata": {
    "collapsed": true
   },
   "outputs": [],
   "source": []
  }
 ],
 "metadata": {
  "kernelspec": {
   "display_name": "Python 3",
   "language": "python",
   "name": "python3"
  },
  "language_info": {
   "codemirror_mode": {
    "name": "ipython",
    "version": 3
   },
   "file_extension": ".py",
   "mimetype": "text/x-python",
   "name": "python",
   "nbconvert_exporter": "python",
   "pygments_lexer": "ipython3",
   "version": "3.5.5"
  }
 },
 "nbformat": 4,
 "nbformat_minor": 2
}
